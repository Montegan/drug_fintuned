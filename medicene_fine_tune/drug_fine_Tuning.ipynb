{
 "cells": [
  {
   "cell_type": "code",
   "execution_count": 2,
   "metadata": {
    "id": "lGtMzLtEPQA6"
   },
   "outputs": [],
   "source": [
    "# from google.colab import userdata\n",
    "# OPENAI_API_KEY=userdata.get('OPEN_AI_TOKEN')"
   ]
  },
  {
   "cell_type": "code",
   "execution_count": null,
   "metadata": {
    "id": "jLeCIa17PQqp"
   },
   "outputs": [],
   "source": [
    "import os\n",
    "OPENAI_API_KEY=os.environ['OPENAI_API_KEY' ]"
   ]
  },
  {
   "cell_type": "code",
   "execution_count": null,
   "metadata": {
    "id": "4UmZXQlIPcFX"
   },
   "outputs": [],
   "source": [
    "from openai import OpenAI # type: ignore"
   ]
  },
  {
   "cell_type": "code",
   "execution_count": 3,
   "metadata": {
    "id": "jVtj3JCFPjsq"
   },
   "outputs": [],
   "source": [
    "client = OpenAI()"
   ]
  },
  {
   "cell_type": "code",
   "execution_count": 9,
   "metadata": {},
   "outputs": [
    {
     "data": {
      "text/plain": [
       "FileObject(id='file-ILjgzvk3KTRZiiPL5mvVejsd', bytes=620084, created_at=1732072932, filename='drug_malady_data_transformed.jsonl', object='file', purpose='fine-tune', status='processed', status_details=None)"
      ]
     },
     "execution_count": 9,
     "metadata": {},
     "output_type": "execute_result"
    }
   ],
   "source": [
    "client.files.create(file=open(\"drug_malady_data_transformed.jsonl\",\"rb\"),purpose='fine-tune')"
   ]
  },
  {
   "cell_type": "code",
   "execution_count": 10,
   "metadata": {},
   "outputs": [],
   "source": [
    "file_id='file-ILjgzvk3KTRZiiPL5mvVejsd'"
   ]
  },
  {
   "cell_type": "code",
   "execution_count": 11,
   "metadata": {
    "id": "kpDC6NQPSVA4"
   },
   "outputs": [],
   "source": [
    "files = client.files.list()"
   ]
  },
  {
   "cell_type": "code",
   "execution_count": 18,
   "metadata": {
    "colab": {
     "base_uri": "https://localhost:8080/"
    },
    "id": "-MhFQEL8SdHE",
    "outputId": "7194cd2a-857b-4f82-996e-c1d85c051512"
   },
   "outputs": [
    {
     "name": "stdout",
     "output_type": "stream",
     "text": [
      "FileObject(id='file-ILjgzvk3KTRZiiPL5mvVejsd', bytes=620084, created_at=1732072932, filename='drug_malady_data_transformed.jsonl', object='file', purpose='fine-tune', status='processed', status_details=None)\n",
      "FileObject(id='file-Khry9hq2rnPnfwZytLeDxddj', bytes=2156, created_at=1732072666, filename='step_metrics.csv', object='file', purpose='fine-tune-results', status='processed', status_details=None)\n",
      "FileObject(id='file-pAe1fZPjdvWT2GXYaexEc01r', bytes=6429, created_at=1732072291, filename='test.jsonl', object='file', purpose='fine-tune', status='processed', status_details=None)\n",
      "FileObject(id='file-lJc8clBfKiKHoha38vCfPiQ3', bytes=2192, created_at=1732057951, filename='step_metrics.csv', object='file', purpose='fine-tune-results', status='processed', status_details=None)\n",
      "FileObject(id='file-6KrtwhpRz9y6rKV3vrY3wgJJ', bytes=6429, created_at=1732057342, filename='test.jsonl', object='file', purpose='fine-tune', status='processed', status_details=None)\n",
      "FileObject(id='file-iszdVT7YRAPrQGqZVapRZC37', bytes=6432, created_at=1732056838, filename='test.jsonl', object='file', purpose='fine-tune', status='processed', status_details=None)\n"
     ]
    }
   ],
   "source": [
    "for file in files.data:\n",
    "  print(file)"
   ]
  },
  {
   "cell_type": "code",
   "execution_count": 15,
   "metadata": {
    "id": "toFOayfzTKv3"
   },
   "outputs": [],
   "source": [
    "for file in files.data:\n",
    "  if file.filename == 'drug_malady_data_transformed.jsonl':\n",
    "    training_file_id = file.id"
   ]
  },
  {
   "cell_type": "code",
   "execution_count": 16,
   "metadata": {
    "colab": {
     "base_uri": "https://localhost:8080/"
    },
    "id": "tNRWzm2KTnhg",
    "outputId": "54203a12-558f-41c4-fe0c-a8888f296260"
   },
   "outputs": [
    {
     "data": {
      "text/plain": [
       "FineTuningJob(id='ftjob-8vvruUDyJhBK0ZyU1IWabTWG', created_at=1732073682, error=Error(code=None, message=None, param=None), fine_tuned_model=None, finished_at=None, hyperparameters=Hyperparameters(n_epochs='auto', batch_size='auto', learning_rate_multiplier='auto'), model='gpt-3.5-turbo-0125', object='fine_tuning.job', organization_id='org-H5AqcfWE5doF86BXLEyduPAE', result_files=[], seed=142064352, status='validating_files', trained_tokens=None, training_file='file-ILjgzvk3KTRZiiPL5mvVejsd', validation_file=None, estimated_finish=None, integrations=[], user_provided_suffix=None)"
      ]
     },
     "execution_count": 16,
     "metadata": {},
     "output_type": "execute_result"
    }
   ],
   "source": [
    "client.fine_tuning.jobs.create(\n",
    "    training_file=training_file_id,\n",
    "    model=\"gpt-3.5-turbo\"\n",
    ")"
   ]
  },
  {
   "cell_type": "code",
   "execution_count": 23,
   "metadata": {
    "id": "f_9iaFm0X3_j"
   },
   "outputs": [],
   "source": [
    "jobs=client.fine_tuning.jobs.list()"
   ]
  },
  {
   "cell_type": "code",
   "execution_count": null,
   "metadata": {
    "id": "sYJgrJ5gZc9w"
   },
   "outputs": [
    {
     "name": "stdout",
     "output_type": "stream",
     "text": [
      "Drug: A CN Gel(Topical) 20gmA CN Soap 75gm\n",
      "Malady:\n",
      "Class: 0\n",
      "Drug: Addnok Tablet 20'S\n",
      "Malady:\n",
      "Class: 5\n",
      "Drug: ABICET M Tablet 10's\n",
      "Malady:\n",
      "Class: 2\n"
     ]
    }
   ],
   "source": [
    "# Configure the model ID. Change this to your model ID.\n",
    "drug_fine_tune_llm='ft:gpt-3.5-turbo-0125:college::AVWObtTY'\n",
    "\n",
    "# Let's use a drug from each class\n",
    "drugs = [\n",
    "    \"A CN Gel(Topical) 20gmA CN Soap 75gm\",  # Class 0\n",
    "    \"Addnok Tablet 20'S\",                    # Class 1\n",
    "    \"ABICET M Tablet 10's\",                  # Class 2\n",
    "]\n",
    "\n",
    "# Returns a drug class for each drug\n",
    "for drug_name in drugs:\n",
    "    prompt = \"Drug: {}\\nMalady:\".format(drug_name)\n",
    "    print(prompt)\n",
    "    response = client.chat.completions.create(\n",
    "        model=drug_fine_tune_llm,\n",
    "         messages=[{\"role\": \"system\", \"content\": \"You are a medical assistant specializing in drug and malady classification. You help classify drugs and match them with possible ailments.\"}, \n",
    "              {\"role\": \"user\", \"content\": prompt}],\n",
    "    )\n",
    "    # Print the generated text\n",
    "    drug_class = response.choices[0].message.content.strip()  # type: ignore\n",
    "    # The result should be 0, 1, and 2\n",
    "    print('Class:',drug_class)"
   ]
  },
  {
   "cell_type": "code",
   "execution_count": null,
   "metadata": {},
   "outputs": [],
   "source": []
  }
 ],
 "metadata": {
  "colab": {
   "provenance": []
  },
  "kernelspec": {
   "display_name": "fine_tune",
   "language": "python",
   "name": "python3"
  },
  "language_info": {
   "codemirror_mode": {
    "name": "ipython",
    "version": 3
   },
   "file_extension": ".py",
   "mimetype": "text/x-python",
   "name": "python",
   "nbconvert_exporter": "python",
   "pygments_lexer": "ipython3",
   "version": "3.12.0"
  }
 },
 "nbformat": 4,
 "nbformat_minor": 0
}
