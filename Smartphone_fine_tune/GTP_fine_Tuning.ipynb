{
 "cells": [
  {
   "cell_type": "code",
   "execution_count": null,
   "metadata": {
    "id": "jLeCIa17PQqp"
   },
   "outputs": [],
   "source": [
    "import os\n",
    "OPENAI_API_KEY=os.environ['OPENAI_API_KEY' ]"
   ]
  },
  {
   "cell_type": "code",
   "execution_count": 2,
   "metadata": {
    "id": "4UmZXQlIPcFX"
   },
   "outputs": [],
   "source": [
    "from openai import OpenAI"
   ]
  },
  {
   "cell_type": "code",
   "execution_count": 3,
   "metadata": {
    "id": "jVtj3JCFPjsq"
   },
   "outputs": [],
   "source": [
    "client = OpenAI()"
   ]
  },
  {
   "cell_type": "code",
   "execution_count": 4,
   "metadata": {
    "id": "um3IjwsLPngA"
   },
   "outputs": [],
   "source": [
    "response=client.chat.completions.create(\n",
    "model=\"gpt-3.5-turbo\",\n",
    "messages=[\n",
    "{\"role\": \"system\", \"content\": \"You are a helpful assistant.\"},\n",
    "    {\"role\": \"user\", \"content\": \"Tell me a joke.\"}\n",
    "\n",
    "])"
   ]
  },
  {
   "cell_type": "code",
   "execution_count": 5,
   "metadata": {
    "colab": {
     "base_uri": "https://localhost:8080/",
     "height": 36
    },
    "id": "U01zoP3TQZ5I",
    "outputId": "d168d30c-7ef7-4a33-8066-6f60093bb191"
   },
   "outputs": [
    {
     "data": {
      "text/plain": [
       "'Sure! Why don’t scientists trust atoms? Because they make up everything!'"
      ]
     },
     "execution_count": 5,
     "metadata": {},
     "output_type": "execute_result"
    }
   ],
   "source": [
    "response.choices[0].message.content"
   ]
  },
  {
   "cell_type": "code",
   "execution_count": 6,
   "metadata": {
    "colab": {
     "base_uri": "https://localhost:8080/"
    },
    "id": "e-rjFRbmQuRI",
    "outputId": "629b671f-2c9a-4607-c135-dde22668f9a1"
   },
   "outputs": [
    {
     "data": {
      "text/plain": [
       "FileObject(id='file-pAe1fZPjdvWT2GXYaexEc01r', bytes=6429, created_at=1732072291, filename='test.jsonl', object='file', purpose='fine-tune', status='processed', status_details=None)"
      ]
     },
     "execution_count": 6,
     "metadata": {},
     "output_type": "execute_result"
    }
   ],
   "source": [
    "client.files.create(\n",
    "  file=open(\"content/test.jsonl\", \"rb\"),\n",
    "  purpose='fine-tune')"
   ]
  },
  {
   "cell_type": "code",
   "execution_count": 7,
   "metadata": {
    "id": "kpDC6NQPSVA4"
   },
   "outputs": [],
   "source": [
    "files = client.files.list()"
   ]
  },
  {
   "cell_type": "code",
   "execution_count": 8,
   "metadata": {
    "colab": {
     "base_uri": "https://localhost:8080/"
    },
    "id": "-MhFQEL8SdHE",
    "outputId": "7194cd2a-857b-4f82-996e-c1d85c051512"
   },
   "outputs": [
    {
     "name": "stdout",
     "output_type": "stream",
     "text": [
      "file-pAe1fZPjdvWT2GXYaexEc01r\n",
      "file-lJc8clBfKiKHoha38vCfPiQ3\n",
      "file-6KrtwhpRz9y6rKV3vrY3wgJJ\n",
      "file-iszdVT7YRAPrQGqZVapRZC37\n"
     ]
    }
   ],
   "source": [
    "for file in files.data:\n",
    "  print(file.id)"
   ]
  },
  {
   "cell_type": "code",
   "execution_count": 9,
   "metadata": {
    "id": "toFOayfzTKv3"
   },
   "outputs": [],
   "source": [
    "for file in files.data:\n",
    "  if file.filename == 'test.jsonl':\n",
    "    training_file_id = file.id"
   ]
  },
  {
   "cell_type": "code",
   "execution_count": 10,
   "metadata": {
    "colab": {
     "base_uri": "https://localhost:8080/",
     "height": 36
    },
    "id": "lcSSZxAqTePK",
    "outputId": "792e33c0-0bba-40c6-e89f-910b718f5594"
   },
   "outputs": [],
   "source": [
    "training_file_id='file-6KrtwhpRz9y6rKV3vrY3wgJJ'"
   ]
  },
  {
   "cell_type": "code",
   "execution_count": 11,
   "metadata": {
    "colab": {
     "base_uri": "https://localhost:8080/"
    },
    "id": "tNRWzm2KTnhg",
    "outputId": "54203a12-558f-41c4-fe0c-a8888f296260"
   },
   "outputs": [
    {
     "data": {
      "text/plain": [
       "FineTuningJob(id='ftjob-h64fOvKK7QeNDIlazAXDSwDs', created_at=1732072292, error=Error(code=None, message=None, param=None), fine_tuned_model=None, finished_at=None, hyperparameters=Hyperparameters(n_epochs='auto', batch_size='auto', learning_rate_multiplier='auto'), model='gpt-3.5-turbo-0125', object='fine_tuning.job', organization_id='org-H5AqcfWE5doF86BXLEyduPAE', result_files=[], seed=44523678, status='validating_files', trained_tokens=None, training_file='file-6KrtwhpRz9y6rKV3vrY3wgJJ', validation_file=None, estimated_finish=None, integrations=[], user_provided_suffix=None)"
      ]
     },
     "execution_count": 11,
     "metadata": {},
     "output_type": "execute_result"
    }
   ],
   "source": [
    "client.fine_tuning.jobs.create(\n",
    "    training_file=training_file_id,\n",
    "    model=\"gpt-3.5-turbo\"\n",
    ")"
   ]
  },
  {
   "cell_type": "code",
   "execution_count": 12,
   "metadata": {
    "id": "f_9iaFm0X3_j"
   },
   "outputs": [],
   "source": [
    "jobs=client.fine_tuning.jobs.list()"
   ]
  },
  {
   "cell_type": "code",
   "execution_count": 13,
   "metadata": {
    "colab": {
     "base_uri": "https://localhost:8080/"
    },
    "id": "wGa8qC0AX8sT",
    "outputId": "c5c0d6d5-3e94-4071-de85-81fe674fdc7c"
   },
   "outputs": [
    {
     "name": "stdout",
     "output_type": "stream",
     "text": [
      "FineTuningJob(id='ftjob-h64fOvKK7QeNDIlazAXDSwDs', created_at=1732072292, error=Error(code=None, message=None, param=None), fine_tuned_model=None, finished_at=None, hyperparameters=Hyperparameters(n_epochs='auto', batch_size='auto', learning_rate_multiplier='auto'), model='gpt-3.5-turbo-0125', object='fine_tuning.job', organization_id='org-H5AqcfWE5doF86BXLEyduPAE', result_files=[], seed=44523678, status='validating_files', trained_tokens=None, training_file='file-6KrtwhpRz9y6rKV3vrY3wgJJ', validation_file=None, estimated_finish=None, integrations=[], user_provided_suffix=None)\n",
      "FineTuningJob(id='ftjob-IkQJ9bwW51z8druA2DJqkcIo', created_at=1732057549, error=Error(code=None, message=None, param=None), fine_tuned_model='ft:gpt-3.5-turbo-0125:college::AVRgTcit', finished_at=1732057947, hyperparameters=Hyperparameters(n_epochs=10, batch_size=1, learning_rate_multiplier=2), model='gpt-3.5-turbo-0125', object='fine_tuning.job', organization_id='org-H5AqcfWE5doF86BXLEyduPAE', result_files=['file-lJc8clBfKiKHoha38vCfPiQ3'], seed=868401368, status='succeeded', trained_tokens=10730, training_file='file-6KrtwhpRz9y6rKV3vrY3wgJJ', validation_file=None, estimated_finish=None, integrations=[], user_provided_suffix=None)\n",
      "FineTuningJob(id='ftjob-gFc3mmG0ZOHVxM8aUimUwDZc', created_at=1732057346, error=Error(code='invalid_training_file', message='The job failed due to an invalid training file. Invalid file format. Example 11 is not a valid JSON object.', param='training_file'), fine_tuned_model=None, finished_at=None, hyperparameters=Hyperparameters(n_epochs='auto', batch_size='auto', learning_rate_multiplier='auto'), model='gpt-3.5-turbo-0125', object='fine_tuning.job', organization_id='org-H5AqcfWE5doF86BXLEyduPAE', result_files=[], seed=72193585, status='failed', trained_tokens=None, training_file='file-iszdVT7YRAPrQGqZVapRZC37', validation_file=None, estimated_finish=None, integrations=[], user_provided_suffix=None)\n",
      "FineTuningJob(id='ftjob-H67mRDzh9eCcI366jxqDDHFh', created_at=1732057015, error=Error(code='invalid_training_file', message='The job failed due to an invalid training file. Invalid file format. Example 11 is not a valid JSON object.', param='training_file'), fine_tuned_model=None, finished_at=None, hyperparameters=Hyperparameters(n_epochs='auto', batch_size='auto', learning_rate_multiplier='auto'), model='gpt-3.5-turbo-0125', object='fine_tuning.job', organization_id='org-H5AqcfWE5doF86BXLEyduPAE', result_files=[], seed=342150990, status='failed', trained_tokens=None, training_file='file-iszdVT7YRAPrQGqZVapRZC37', validation_file=None, estimated_finish=None, integrations=[], user_provided_suffix=None)\n"
     ]
    }
   ],
   "source": [
    "for job in jobs:\n",
    "  print(job)"
   ]
  },
  {
   "cell_type": "code",
   "execution_count": 14,
   "metadata": {
    "colab": {
     "base_uri": "https://localhost:8080/"
    },
    "id": "TeesjWfMX9u8",
    "outputId": "cdd20d49-0ebc-46e6-f843-8a1ae64c05f5"
   },
   "outputs": [
    {
     "data": {
      "text/plain": [
       "FineTuningJob(id='ftjob-IkQJ9bwW51z8druA2DJqkcIo', created_at=1732057549, error=Error(code=None, message=None, param=None), fine_tuned_model='ft:gpt-3.5-turbo-0125:college::AVRgTcit', finished_at=1732057947, hyperparameters=Hyperparameters(n_epochs=10, batch_size=1, learning_rate_multiplier=2), model='gpt-3.5-turbo-0125', object='fine_tuning.job', organization_id='org-H5AqcfWE5doF86BXLEyduPAE', result_files=['file-lJc8clBfKiKHoha38vCfPiQ3'], seed=868401368, status='succeeded', trained_tokens=10730, training_file='file-6KrtwhpRz9y6rKV3vrY3wgJJ', validation_file=None, estimated_finish=None, integrations=[], user_provided_suffix=None)"
      ]
     },
     "execution_count": 14,
     "metadata": {},
     "output_type": "execute_result"
    }
   ],
   "source": [
    "client.fine_tuning.jobs.retrieve('ftjob-IkQJ9bwW51z8druA2DJqkcIo')"
   ]
  },
  {
   "cell_type": "code",
   "execution_count": 16,
   "metadata": {
    "colab": {
     "base_uri": "https://localhost:8080/"
    },
    "id": "xKMpDIpoYXwn",
    "outputId": "2179807e-0beb-4a57-fc19-3b04d39d3e56"
   },
   "outputs": [],
   "source": [
    "# client.fine_tuning.jobs.retrieve('ftjob-zoYeuUy5JIPCdrGNrffUJPVY')"
   ]
  },
  {
   "cell_type": "code",
   "execution_count": 17,
   "metadata": {
    "id": "bFM5jxYYZUan"
   },
   "outputs": [],
   "source": [
    "# ft:gpt-3.5-turbo-0125:personal::AFEV9Ozr\n",
    "my_llm=\"ft:gpt-3.5-turbo-0125:college::AVRgTcit\""
   ]
  },
  {
   "cell_type": "code",
   "execution_count": 18,
   "metadata": {
    "id": "ocb_iMtNZyvz"
   },
   "outputs": [],
   "source": [
    "def get_answer(question):\n",
    "  response=client.chat.completions.create(\n",
    "    model=my_llm,\n",
    "    messages=[\n",
    "        {\"role\": \"user\", \"content\": question}\n",
    "    ]\n",
    "  )\n",
    "  return response.choices[0].message.content"
   ]
  },
  {
   "cell_type": "code",
   "execution_count": 19,
   "metadata": {
    "colab": {
     "base_uri": "https://localhost:8080/",
     "height": 72
    },
    "id": "HLt2tyw2Zc2g",
    "outputId": "682539ee-4e1c-4e8b-a9ff-0ac08e8831a1"
   },
   "outputs": [
    {
     "data": {
      "text/plain": [
       "'I am unable to predict the future or guarantee promotions for any specific sale, including Black Friday. However, it is common for many retailers to offer promotions and discounts during Black Friday. I recommend checking the official website or signing up for the newsletter to receive the latest information on upcoming sales and promotions.'"
      ]
     },
     "execution_count": 19,
     "metadata": {},
     "output_type": "execute_result"
    }
   ],
   "source": [
    "get_answer('will i get any promotions for black friday sale?')"
   ]
  },
  {
   "cell_type": "code",
   "execution_count": null,
   "metadata": {
    "id": "sYJgrJ5gZc9w"
   },
   "outputs": [],
   "source": []
  },
  {
   "cell_type": "code",
   "execution_count": null,
   "metadata": {
    "id": "XzlflISNZdBQ"
   },
   "outputs": [],
   "source": []
  }
 ],
 "metadata": {
  "colab": {
   "provenance": []
  },
  "kernelspec": {
   "display_name": "fine_tune",
   "language": "python",
   "name": "python3"
  },
  "language_info": {
   "codemirror_mode": {
    "name": "ipython",
    "version": 3
   },
   "file_extension": ".py",
   "mimetype": "text/x-python",
   "name": "python",
   "nbconvert_exporter": "python",
   "pygments_lexer": "ipython3",
   "version": "3.12.0"
  }
 },
 "nbformat": 4,
 "nbformat_minor": 0
}
